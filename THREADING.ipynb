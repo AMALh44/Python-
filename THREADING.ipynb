{
 "cells": [
  {
   "cell_type": "markdown",
   "metadata": {},
   "source": []
  },
  {
   "cell_type": "markdown",
   "metadata": {},
   "source": [
    "Threading means spliting a program into smaller parts (called threads) that can run at the same time. This"
   ]
  },
  {
   "cell_type": "code",
   "execution_count": 4,
   "metadata": {},
   "outputs": [
    {
     "name": "stdout",
     "output_type": "stream",
     "text": [
      "Task 1 started\n",
      "Task 2 started\n",
      "Task 1 Finished\n",
      "Task 2 finished\n",
      "all task Completed\n"
     ]
    }
   ],
   "source": [
    "import threading\n",
    "import time\n",
    "\n",
    "def task1():\n",
    "    print(\"Task 1 started\")\n",
    "    time.sleep(3)\n",
    "    print(\"Task 1 Finished\")\n",
    "\n",
    "def task2():\n",
    "    print(\"Task 2 started\")\n",
    "    time.sleep(5)\n",
    "    print(\"Task 2 finished\")\n",
    "\n",
    "# Create threads\n",
    "thread1 = threading.Thread(target=task1)\n",
    "thread2 = threading.Thread(target=task2)\n",
    "\n",
    "# satrt threads\n",
    "thread1.start()\n",
    "thread2.start()\n",
    "\n",
    "# wait for threads to finish (optional)\n",
    "thread1.join()\n",
    "thread2.join()\n",
    "\n",
    "print(\"all task Completed\")"
   ]
  },
  {
   "cell_type": "code",
   "execution_count": 5,
   "metadata": {},
   "outputs": [
    {
     "name": "stdout",
     "output_type": "stream",
     "text": [
      "Task 1:0\n",
      "Task 1:1\n",
      "Task 1:2\n",
      "Task 1:3\n",
      "Task 1:4\n",
      "Task 2:0\n",
      "Task 2:1\n",
      "Task 2:2\n",
      "Task 2:3\n",
      "Task 2:4\n",
      "Total time without threading: 10.01 second\n"
     ]
    }
   ],
   "source": [
    "import threading\n",
    "import time\n",
    "\n",
    "def print_numbers(name):\n",
    "    for i in range(5):\n",
    "        print(f\"{name}:{i}\")\n",
    "        time.sleep(1)\n",
    "\n",
    "# sequential execution\n",
    "start_time = time.time()\n",
    "print_numbers(\"Task 1\")\n",
    "print_numbers(\"Task 2\")\n",
    "end_time = time.time()\n",
    "\n",
    "print(f\"Total time without threading: {end_time - start_time:.2f} second\")"
   ]
  },
  {
   "cell_type": "code",
   "execution_count": 6,
   "metadata": {},
   "outputs": [],
   "source": [
    "import threading\n",
    "import time\n",
    "\n",
    "def print_numbers(name):\n",
    "    for i in range(5):\n",
    "        print(f\"{name}:{i}\")\n",
    "        time.sleep(1)\n",
    "\n",
    "# Concurrent execution\n",
    "start_time = time.time()\n",
    "\n",
    "# Create threads\n",
    "thread1 = threading.Thread(target=print_numbers,args=(\"Task 1\"))\n",
    "thread2 = threading.Thread(target=print_numbers, args=(\"Task 2\"))\n",
    "\n"
   ]
  }
 ],
 "metadata": {
  "kernelspec": {
   "display_name": "Python 3",
   "language": "python",
   "name": "python3"
  },
  "language_info": {
   "codemirror_mode": {
    "name": "ipython",
    "version": 3
   },
   "file_extension": ".py",
   "mimetype": "text/x-python",
   "name": "python",
   "nbconvert_exporter": "python",
   "pygments_lexer": "ipython3",
   "version": "3.12.4"
  }
 },
 "nbformat": 4,
 "nbformat_minor": 2
}
